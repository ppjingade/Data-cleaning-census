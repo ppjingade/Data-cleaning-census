{
 "cells": [
  {
   "cell_type": "markdown",
   "id": "29f34e27",
   "metadata": {},
   "source": [
    "# Data Wrangling with Python: U.S Census Data"
   ]
  },
  {
   "cell_type": "markdown",
   "id": "d389a4a4",
   "metadata": {},
   "source": [
    "<img src=\"figs/andy_productivity.jpg\" width=\"300\"/>"
   ]
  },
  {
   "cell_type": "markdown",
   "id": "c7fef500",
   "metadata": {},
   "source": [
    "## About The Project\n",
    "***\n",
    "Frequently when we work with data, we encounter unstructured and messy data. Messy data can take a variety of forms. This could mean any of the following:\n",
    "\n",
    "- The columns are mislabeled or do not have variable names.\n",
    "- The dataset contains nonsensical data.\n",
    "- Variables are stored in both columns and rows.\n",
    "\n",
    "While the data may be messy, it is still highly informative. We need to clean, transform, and sometimes manipulate the data structure to gain any insights. This process is often called **data wrangling**.\n",
    "\n",
    "Having clean data will improve data quality. Ultimately, this will allow us to make better data-driven decision for the business.\n",
    "\n",
    "This project aims to demonstrate some methods for cleaning data. After the data is cleaned, it will be analyzed through visualization to find interesting insights."
   ]
  },
  {
   "cell_type": "markdown",
   "id": "c2d9d68f",
   "metadata": {},
   "source": [
    "## The Dataset\n",
    "***\n",
    "The dataset is a dummy dataset obtained from Codecademy Data Scientist Career Path.\n",
    "\n",
    "We have 10 csv files, each file have different rows and with the same columns.\n",
    "\n",
    "<img src=\"figs/dataset_collection.png\" width=\"700\"/>"
   ]
  },
  {
   "cell_type": "markdown",
   "id": "22d401a9",
   "metadata": {},
   "source": [
    "## Data Loading and Inspecting\n",
    "***\n",
    "Instead of importing the dataset one-by-one, we can easily import and combine all the dataset using `glob`."
   ]
  },
  {
   "cell_type": "code",
   "execution_count": 182,
   "id": "3c615561",
   "metadata": {},
   "outputs": [],
   "source": [
    "# import libraries\n",
    "import numpy as np\n",
    "import pandas as pd\n",
    "import glob\n",
    "import matplotlib.pyplot as plt\n",
    "import seaborn as sns"
   ]
  },
  {
   "cell_type": "code",
   "execution_count": 183,
   "id": "d5e924d5",
   "metadata": {},
   "outputs": [
    {
     "name": "stdout",
     "output_type": "stream",
     "text": [
      "cleaned_data.csv states1.csv      states4.csv      states7.csv\r\n",
      "read.txt         states2.csv      states5.csv      states8.csv\r\n",
      "states0.csv      states3.csv      states6.csv      states9.csv\r\n"
     ]
    }
   ],
   "source": [
    "!ls datasets/"
   ]
  },
  {
   "cell_type": "code",
   "execution_count": 191,
   "id": "174b756b",
   "metadata": {},
   "outputs": [
    {
     "name": "stdout",
     "output_type": "stream",
     "text": [
      "datasets/cleaned_data.csv\n",
      "datasets/states8.csv\n",
      "datasets/states9.csv\n",
      "datasets/states4.csv\n",
      "datasets/states5.csv\n",
      "datasets/states7.csv\n",
      "datasets/states6.csv\n",
      "datasets/states2.csv\n",
      "datasets/states3.csv\n",
      "datasets/states1.csv\n",
      "datasets/states0.csv\n",
      "datasets/read.txt\n"
     ]
    }
   ],
   "source": [
    "import os\n",
    "# for dirname, _, filenames in os.walk('/kaggle/input'):\n",
    "for dirname, _, filenames in os.walk('datasets/'):    \n",
    "    for filename in filenames:\n",
    "        print(os.path.join(dirname, filename))"
   ]
  },
  {
   "cell_type": "code",
   "execution_count": 185,
   "id": "cfd6a285",
   "metadata": {},
   "outputs": [],
   "source": [
    "# load datasets\n",
    "# read files and append them in a list\n"
   ]
  },
  {
   "cell_type": "code",
   "execution_count": 186,
   "id": "f98961e1",
   "metadata": {},
   "outputs": [],
   "source": [
    "# see sample of data\n"
   ]
  },
  {
   "cell_type": "code",
   "execution_count": 168,
   "id": "9d417adb",
   "metadata": {},
   "outputs": [
    {
     "data": {
      "text/plain": [
       "Index(['index', 'Unnamed: 0', 'State', 'TotalPop', 'Hispanic', 'White',\n",
       "       'Black', 'Native', 'Asian', 'Pacific', 'Income', 'GenderPop'],\n",
       "      dtype='object')"
      ]
     },
     "execution_count": 168,
     "metadata": {},
     "output_type": "execute_result"
    }
   ],
   "source": [
    "# check columns of the dataset\n"
   ]
  },
  {
   "cell_type": "code",
   "execution_count": 187,
   "id": "cc34cb8d",
   "metadata": {},
   "outputs": [],
   "source": [
    "# quick overview of data\n"
   ]
  },
  {
   "cell_type": "code",
   "execution_count": null,
   "id": "64e3671f",
   "metadata": {},
   "outputs": [],
   "source": [
    "# lets make the copy of the dataframe so that we can compare it afterwards."
   ]
  },
  {
   "cell_type": "markdown",
   "id": "e3ff54af",
   "metadata": {},
   "source": [
    "By glancing at the data sample and its data types, we can see some messiness in our data, some of them:\n",
    "- Variable `index` and `Unnamed: 0` seems doesn't add any information to our data.\n",
    "- The race variable (`Hispanic`, `White`, `Black`, etc.) shows percentage yet the data types is **object**.\n",
    "- `Income` appears to shows continous numbers, yet the data type is **object**.\n",
    "- Variable `GenderPop` shows the population for male and female. It would be better to separate this column to each gender population."
   ]
  },
  {
   "cell_type": "markdown",
   "id": "ac42bbc8",
   "metadata": {},
   "source": [
    "Before cleaning and transforming the dataset, let's see if our data has missing values and duplicated values"
   ]
  },
  {
   "cell_type": "code",
   "execution_count": 171,
   "id": "a0ea25af",
   "metadata": {},
   "outputs": [],
   "source": [
    "## lets check the duplicate values"
   ]
  },
  {
   "cell_type": "markdown",
   "id": "25443b22",
   "metadata": {},
   "source": [
    "### 1. Remove unused variable"
   ]
  },
  {
   "cell_type": "code",
   "execution_count": 173,
   "id": "7324f02c",
   "metadata": {},
   "outputs": [],
   "source": [
    "# remove the `index` and `Unnamed: 0` column"
   ]
  },
  {
   "cell_type": "markdown",
   "id": "c8ee02c0",
   "metadata": {},
   "source": [
    "### 2. Change the races and income variable to integer data type"
   ]
  },
  {
   "cell_type": "markdown",
   "id": "03ea8fc6",
   "metadata": {},
   "source": [
    "To change the races and income variable to numeric data type, first we must non-numeric character from its data and leave only numbers. After that, we can change its data type to integer/float."
   ]
  },
  {
   "cell_type": "code",
   "execution_count": 176,
   "id": "68179e46",
   "metadata": {},
   "outputs": [],
   "source": []
  },
  {
   "cell_type": "markdown",
   "id": "78ce9dae",
   "metadata": {},
   "source": [
    "### 3. Separate `GenderPop` column into two columns, the `MalePop` column and the `FemalePop` column"
   ]
  },
  {
   "cell_type": "code",
   "execution_count": 178,
   "id": "2254cb36",
   "metadata": {
    "scrolled": true
   },
   "outputs": [
    {
     "data": {
      "text/html": [
       "<div>\n",
       "<style scoped>\n",
       "    .dataframe tbody tr th:only-of-type {\n",
       "        vertical-align: middle;\n",
       "    }\n",
       "\n",
       "    .dataframe tbody tr th {\n",
       "        vertical-align: top;\n",
       "    }\n",
       "\n",
       "    .dataframe thead th {\n",
       "        text-align: right;\n",
       "    }\n",
       "</style>\n",
       "<table border=\"1\" class=\"dataframe\">\n",
       "  <thead>\n",
       "    <tr style=\"text-align: right;\">\n",
       "      <th></th>\n",
       "      <th>State</th>\n",
       "      <th>TotalPop</th>\n",
       "      <th>Hispanic</th>\n",
       "      <th>White</th>\n",
       "      <th>Black</th>\n",
       "      <th>Native</th>\n",
       "      <th>Asian</th>\n",
       "      <th>Pacific</th>\n",
       "      <th>Income</th>\n",
       "      <th>GenderPop</th>\n",
       "      <th>MalePop</th>\n",
       "      <th>FemalePop</th>\n",
       "    </tr>\n",
       "  </thead>\n",
       "  <tbody>\n",
       "    <tr>\n",
       "      <th>0</th>\n",
       "      <td>Rhode Island</td>\n",
       "      <td>1053661</td>\n",
       "      <td>13.36%</td>\n",
       "      <td>74.33%</td>\n",
       "      <td>5.68%</td>\n",
       "      <td>0.35%</td>\n",
       "      <td>3.25%</td>\n",
       "      <td>0.04%</td>\n",
       "      <td>$59,125.27</td>\n",
       "      <td>510388M_543273F</td>\n",
       "      <td>510388M</td>\n",
       "      <td>543273F</td>\n",
       "    </tr>\n",
       "    <tr>\n",
       "      <th>1</th>\n",
       "      <td>South Carolina</td>\n",
       "      <td>4777576</td>\n",
       "      <td>5.06%</td>\n",
       "      <td>62.89%</td>\n",
       "      <td>28.75%</td>\n",
       "      <td>0.29%</td>\n",
       "      <td>1.25%</td>\n",
       "      <td>0.05%</td>\n",
       "      <td>$46,296.81</td>\n",
       "      <td>2322409M_2455167F</td>\n",
       "      <td>2322409M</td>\n",
       "      <td>2455167F</td>\n",
       "    </tr>\n",
       "    <tr>\n",
       "      <th>2</th>\n",
       "      <td>South Dakota</td>\n",
       "      <td>843190</td>\n",
       "      <td>3.24%</td>\n",
       "      <td>82.50%</td>\n",
       "      <td>1.42%</td>\n",
       "      <td>9.42%</td>\n",
       "      <td>1.02%</td>\n",
       "      <td>0.04%</td>\n",
       "      <td>$51,805.41</td>\n",
       "      <td>423477M_419713F</td>\n",
       "      <td>423477M</td>\n",
       "      <td>419713F</td>\n",
       "    </tr>\n",
       "  </tbody>\n",
       "</table>\n",
       "</div>"
      ],
      "text/plain": [
       "            State  TotalPop Hispanic   White   Black Native  Asian Pacific  \\\n",
       "0    Rhode Island   1053661   13.36%  74.33%   5.68%  0.35%  3.25%   0.04%   \n",
       "1  South Carolina   4777576    5.06%  62.89%  28.75%  0.29%  1.25%   0.05%   \n",
       "2    South Dakota    843190    3.24%  82.50%   1.42%  9.42%  1.02%   0.04%   \n",
       "\n",
       "        Income          GenderPop   MalePop FemalePop  \n",
       "0  $59,125.27     510388M_543273F   510388M   543273F  \n",
       "1  $46,296.81   2322409M_2455167F  2322409M  2455167F  \n",
       "2  $51,805.41     423477M_419713F   423477M   419713F  "
      ]
     },
     "execution_count": 178,
     "metadata": {},
     "output_type": "execute_result"
    }
   ],
   "source": []
  },
  {
   "cell_type": "markdown",
   "id": "f6e35a8b",
   "metadata": {},
   "source": [
    "Let's also convert these separated columns into numeric data type."
   ]
  },
  {
   "cell_type": "code",
   "execution_count": 179,
   "id": "56487272",
   "metadata": {},
   "outputs": [],
   "source": []
  },
  {
   "cell_type": "markdown",
   "id": "352991ef",
   "metadata": {},
   "source": [
    "Finally, let's drop the `GenderPop` column."
   ]
  },
  {
   "cell_type": "code",
   "execution_count": null,
   "id": "efd191b0",
   "metadata": {
    "scrolled": true
   },
   "outputs": [],
   "source": []
  },
  {
   "cell_type": "markdown",
   "id": "927de2af",
   "metadata": {},
   "source": [
    "Now the races and income columns have correct data type. We also separate the gender population into male and female and convert its data types to numeric."
   ]
  },
  {
   "cell_type": "markdown",
   "id": "556d4c7d",
   "metadata": {},
   "source": [
    "### 4. Handling Missing Values"
   ]
  },
  {
   "cell_type": "markdown",
   "id": "1bd5527c",
   "metadata": {},
   "source": [
    "Previously, only `Pacific` variable has missing values. Since we have transformed previous genderpop column to separate columns, it seems like some data for `FemalePop` are also missing.\n",
    "\n",
    "First, let's handle missing value for `Pacific` race column. We will fill the missing values with average value of the column."
   ]
  },
  {
   "cell_type": "markdown",
   "id": "2e36a8aa",
   "metadata": {},
   "source": [
    "### 5. Handle Duplicate Data"
   ]
  },
  {
   "cell_type": "code",
   "execution_count": 21,
   "id": "b713f594",
   "metadata": {},
   "outputs": [
    {
     "data": {
      "text/plain": [
       "False    51\n",
       "True      9\n",
       "dtype: int64"
      ]
     },
     "execution_count": 21,
     "metadata": {},
     "output_type": "execute_result"
    }
   ],
   "source": [
    "## lets count number of duplicate data points"
   ]
  },
  {
   "cell_type": "markdown",
   "id": "a0a0125d",
   "metadata": {},
   "source": [
    "There are 9 duplicates in the dataset. We will drop those duplicates"
   ]
  },
  {
   "cell_type": "code",
   "execution_count": 22,
   "id": "180f05ca",
   "metadata": {},
   "outputs": [
    {
     "data": {
      "text/plain": [
       "(60, 11)"
      ]
     },
     "execution_count": 22,
     "metadata": {},
     "output_type": "execute_result"
    }
   ],
   "source": [
    "# size of data before drop duplicates\n"
   ]
  },
  {
   "cell_type": "code",
   "execution_count": 23,
   "id": "e6ab1cda",
   "metadata": {},
   "outputs": [
    {
     "data": {
      "text/plain": [
       "(51, 11)"
      ]
     },
     "execution_count": 23,
     "metadata": {},
     "output_type": "execute_result"
    }
   ],
   "source": [
    "# size of data after drop duplicates\n"
   ]
  },
  {
   "cell_type": "markdown",
   "id": "b394b952",
   "metadata": {},
   "source": [
    "Well done!! We have cleaned the data through some simple and effective method. Lets take a look of before and after we cleaned the dataset."
   ]
  },
  {
   "cell_type": "code",
   "execution_count": 24,
   "id": "2b9e2999",
   "metadata": {},
   "outputs": [
    {
     "name": "stdout",
     "output_type": "stream",
     "text": [
      "Before dataset is cleaned: \n",
      "\n",
      "index          int64\n",
      "Unnamed: 0     int64\n",
      "State         object\n",
      "TotalPop       int64\n",
      "Hispanic      object\n",
      "White         object\n",
      "Black         object\n",
      "Native        object\n",
      "Asian         object\n",
      "Pacific       object\n",
      "Income        object\n",
      "GenderPop     object\n",
      "dtype: object\n"
     ]
    },
    {
     "data": {
      "text/html": [
       "<div>\n",
       "<style scoped>\n",
       "    .dataframe tbody tr th:only-of-type {\n",
       "        vertical-align: middle;\n",
       "    }\n",
       "\n",
       "    .dataframe tbody tr th {\n",
       "        vertical-align: top;\n",
       "    }\n",
       "\n",
       "    .dataframe thead th {\n",
       "        text-align: right;\n",
       "    }\n",
       "</style>\n",
       "<table border=\"1\" class=\"dataframe\">\n",
       "  <thead>\n",
       "    <tr style=\"text-align: right;\">\n",
       "      <th></th>\n",
       "      <th>index</th>\n",
       "      <th>Unnamed: 0</th>\n",
       "      <th>State</th>\n",
       "      <th>TotalPop</th>\n",
       "      <th>Hispanic</th>\n",
       "      <th>White</th>\n",
       "      <th>Black</th>\n",
       "      <th>Native</th>\n",
       "      <th>Asian</th>\n",
       "      <th>Pacific</th>\n",
       "      <th>Income</th>\n",
       "      <th>GenderPop</th>\n",
       "    </tr>\n",
       "  </thead>\n",
       "  <tbody>\n",
       "    <tr>\n",
       "      <th>0</th>\n",
       "      <td>0</td>\n",
       "      <td>0</td>\n",
       "      <td>Alabama</td>\n",
       "      <td>4830620</td>\n",
       "      <td>3.75%</td>\n",
       "      <td>61.88%</td>\n",
       "      <td>31.25%</td>\n",
       "      <td>0.45%</td>\n",
       "      <td>1.05%</td>\n",
       "      <td>0.03%</td>\n",
       "      <td>$43,296.36</td>\n",
       "      <td>2341093M_2489527F</td>\n",
       "    </tr>\n",
       "    <tr>\n",
       "      <th>1</th>\n",
       "      <td>1</td>\n",
       "      <td>1</td>\n",
       "      <td>Alaska</td>\n",
       "      <td>733375</td>\n",
       "      <td>5.91%</td>\n",
       "      <td>60.91%</td>\n",
       "      <td>2.85%</td>\n",
       "      <td>16.39%</td>\n",
       "      <td>5.45%</td>\n",
       "      <td>1.06%</td>\n",
       "      <td>$70,354.74</td>\n",
       "      <td>384160M_349215F</td>\n",
       "    </tr>\n",
       "    <tr>\n",
       "      <th>2</th>\n",
       "      <td>2</td>\n",
       "      <td>2</td>\n",
       "      <td>Arizona</td>\n",
       "      <td>6641928</td>\n",
       "      <td>29.57%</td>\n",
       "      <td>57.12%</td>\n",
       "      <td>3.85%</td>\n",
       "      <td>4.36%</td>\n",
       "      <td>2.88%</td>\n",
       "      <td>0.17%</td>\n",
       "      <td>$54,207.82</td>\n",
       "      <td>3299088M_3342840F</td>\n",
       "    </tr>\n",
       "    <tr>\n",
       "      <th>3</th>\n",
       "      <td>3</td>\n",
       "      <td>3</td>\n",
       "      <td>Arkansas</td>\n",
       "      <td>2958208</td>\n",
       "      <td>6.22%</td>\n",
       "      <td>71.14%</td>\n",
       "      <td>18.97%</td>\n",
       "      <td>0.52%</td>\n",
       "      <td>1.14%</td>\n",
       "      <td>0.15%</td>\n",
       "      <td>$41,935.63</td>\n",
       "      <td>1451913M_1506295F</td>\n",
       "    </tr>\n",
       "    <tr>\n",
       "      <th>4</th>\n",
       "      <td>4</td>\n",
       "      <td>4</td>\n",
       "      <td>California</td>\n",
       "      <td>38421464</td>\n",
       "      <td>37.29%</td>\n",
       "      <td>40.22%</td>\n",
       "      <td>5.68%</td>\n",
       "      <td>0.41%</td>\n",
       "      <td>13.05%</td>\n",
       "      <td>0.35%</td>\n",
       "      <td>$67,264.78</td>\n",
       "      <td>19087135M_19334329F</td>\n",
       "    </tr>\n",
       "  </tbody>\n",
       "</table>\n",
       "</div>"
      ],
      "text/plain": [
       "   index  Unnamed: 0       State  TotalPop Hispanic   White   Black  Native  \\\n",
       "0      0           0     Alabama   4830620    3.75%  61.88%  31.25%   0.45%   \n",
       "1      1           1      Alaska    733375    5.91%  60.91%   2.85%  16.39%   \n",
       "2      2           2     Arizona   6641928   29.57%  57.12%   3.85%   4.36%   \n",
       "3      3           3    Arkansas   2958208    6.22%  71.14%  18.97%   0.52%   \n",
       "4      4           4  California  38421464   37.29%  40.22%   5.68%   0.41%   \n",
       "\n",
       "    Asian Pacific       Income            GenderPop  \n",
       "0   1.05%   0.03%  $43,296.36     2341093M_2489527F  \n",
       "1   5.45%   1.06%  $70,354.74       384160M_349215F  \n",
       "2   2.88%   0.17%  $54,207.82     3299088M_3342840F  \n",
       "3   1.14%   0.15%  $41,935.63     1451913M_1506295F  \n",
       "4  13.05%   0.35%  $67,264.78   19087135M_19334329F  "
      ]
     },
     "execution_count": 24,
     "metadata": {},
     "output_type": "execute_result"
    }
   ],
   "source": [
    "print('Before dataset is cleaned: \\n')\n",
    "print(us_census_raw.dtypes)\n",
    "us_census_raw.head()"
   ]
  },
  {
   "cell_type": "code",
   "execution_count": 25,
   "id": "7d804e96",
   "metadata": {},
   "outputs": [
    {
     "name": "stdout",
     "output_type": "stream",
     "text": [
      "After dataset is cleaned: \n",
      "\n",
      "State         object\n",
      "TotalPop       int64\n",
      "Hispanic     float64\n",
      "White        float64\n",
      "Black        float64\n",
      "Native       float64\n",
      "Asian        float64\n",
      "Pacific      float64\n",
      "Income       float64\n",
      "MalePop        int64\n",
      "FemalePop    float64\n",
      "dtype: object\n"
     ]
    },
    {
     "data": {
      "text/html": [
       "<div>\n",
       "<style scoped>\n",
       "    .dataframe tbody tr th:only-of-type {\n",
       "        vertical-align: middle;\n",
       "    }\n",
       "\n",
       "    .dataframe tbody tr th {\n",
       "        vertical-align: top;\n",
       "    }\n",
       "\n",
       "    .dataframe thead th {\n",
       "        text-align: right;\n",
       "    }\n",
       "</style>\n",
       "<table border=\"1\" class=\"dataframe\">\n",
       "  <thead>\n",
       "    <tr style=\"text-align: right;\">\n",
       "      <th></th>\n",
       "      <th>State</th>\n",
       "      <th>TotalPop</th>\n",
       "      <th>Hispanic</th>\n",
       "      <th>White</th>\n",
       "      <th>Black</th>\n",
       "      <th>Native</th>\n",
       "      <th>Asian</th>\n",
       "      <th>Pacific</th>\n",
       "      <th>Income</th>\n",
       "      <th>MalePop</th>\n",
       "      <th>FemalePop</th>\n",
       "    </tr>\n",
       "  </thead>\n",
       "  <tbody>\n",
       "    <tr>\n",
       "      <th>0</th>\n",
       "      <td>Alabama</td>\n",
       "      <td>4830620</td>\n",
       "      <td>3.75</td>\n",
       "      <td>61.88</td>\n",
       "      <td>31.25</td>\n",
       "      <td>0.45</td>\n",
       "      <td>1.05</td>\n",
       "      <td>0.03</td>\n",
       "      <td>43296.36</td>\n",
       "      <td>2341093</td>\n",
       "      <td>2489527.0</td>\n",
       "    </tr>\n",
       "    <tr>\n",
       "      <th>1</th>\n",
       "      <td>Alaska</td>\n",
       "      <td>733375</td>\n",
       "      <td>5.91</td>\n",
       "      <td>60.91</td>\n",
       "      <td>2.85</td>\n",
       "      <td>16.39</td>\n",
       "      <td>5.45</td>\n",
       "      <td>1.06</td>\n",
       "      <td>70354.74</td>\n",
       "      <td>384160</td>\n",
       "      <td>349215.0</td>\n",
       "    </tr>\n",
       "    <tr>\n",
       "      <th>2</th>\n",
       "      <td>Arizona</td>\n",
       "      <td>6641928</td>\n",
       "      <td>29.57</td>\n",
       "      <td>57.12</td>\n",
       "      <td>3.85</td>\n",
       "      <td>4.36</td>\n",
       "      <td>2.88</td>\n",
       "      <td>0.17</td>\n",
       "      <td>54207.82</td>\n",
       "      <td>3299088</td>\n",
       "      <td>3342840.0</td>\n",
       "    </tr>\n",
       "    <tr>\n",
       "      <th>3</th>\n",
       "      <td>Arkansas</td>\n",
       "      <td>2958208</td>\n",
       "      <td>6.22</td>\n",
       "      <td>71.14</td>\n",
       "      <td>18.97</td>\n",
       "      <td>0.52</td>\n",
       "      <td>1.14</td>\n",
       "      <td>0.15</td>\n",
       "      <td>41935.63</td>\n",
       "      <td>1451913</td>\n",
       "      <td>1506295.0</td>\n",
       "    </tr>\n",
       "    <tr>\n",
       "      <th>4</th>\n",
       "      <td>California</td>\n",
       "      <td>38421464</td>\n",
       "      <td>37.29</td>\n",
       "      <td>40.22</td>\n",
       "      <td>5.68</td>\n",
       "      <td>0.41</td>\n",
       "      <td>13.05</td>\n",
       "      <td>0.35</td>\n",
       "      <td>67264.78</td>\n",
       "      <td>19087135</td>\n",
       "      <td>19334329.0</td>\n",
       "    </tr>\n",
       "  </tbody>\n",
       "</table>\n",
       "</div>"
      ],
      "text/plain": [
       "        State  TotalPop  Hispanic  White  Black  Native  Asian  Pacific  \\\n",
       "0     Alabama   4830620      3.75  61.88  31.25    0.45   1.05     0.03   \n",
       "1      Alaska    733375      5.91  60.91   2.85   16.39   5.45     1.06   \n",
       "2     Arizona   6641928     29.57  57.12   3.85    4.36   2.88     0.17   \n",
       "3    Arkansas   2958208      6.22  71.14  18.97    0.52   1.14     0.15   \n",
       "4  California  38421464     37.29  40.22   5.68    0.41  13.05     0.35   \n",
       "\n",
       "     Income   MalePop   FemalePop  \n",
       "0  43296.36   2341093   2489527.0  \n",
       "1  70354.74    384160    349215.0  \n",
       "2  54207.82   3299088   3342840.0  \n",
       "3  41935.63   1451913   1506295.0  \n",
       "4  67264.78  19087135  19334329.0  "
      ]
     },
     "execution_count": 25,
     "metadata": {},
     "output_type": "execute_result"
    }
   ],
   "source": [
    "print('After dataset is cleaned: \\n')\n",
    "print(us_census.dtypes)\n",
    "us_census.head()"
   ]
  },
  {
   "cell_type": "markdown",
   "id": "6eb1945d",
   "metadata": {},
   "source": [
    "Finally, let's save our cleaned dataset for future analysis"
   ]
  },
  {
   "cell_type": "markdown",
   "id": "8a012d95",
   "metadata": {},
   "source": [
    "## Conclusion\n",
    "***"
   ]
  },
  {
   "cell_type": "markdown",
   "id": "8a57cc98",
   "metadata": {},
   "source": [
    "Through cleaning this dataset, we can obtain informative findings that previously would be impossible. So far, what we have done for cleaning data are:\n",
    "\n",
    "- Remove unused column\n",
    "- Create new columns based on existing column\n",
    "- Using regex to manipulate string data\n",
    "- Convert data type to another type\n",
    "- Check and handle missing values\n",
    "- Check and drop duplicated data"
   ]
  },
  {
   "cell_type": "code",
   "execution_count": null,
   "id": "d1916220",
   "metadata": {},
   "outputs": [],
   "source": []
  }
 ],
 "metadata": {
  "kernelspec": {
   "display_name": "Python 3 (ipykernel)",
   "language": "python",
   "name": "python3"
  },
  "language_info": {
   "codemirror_mode": {
    "name": "ipython",
    "version": 3
   },
   "file_extension": ".py",
   "mimetype": "text/x-python",
   "name": "python",
   "nbconvert_exporter": "python",
   "pygments_lexer": "ipython3",
   "version": "3.10.9"
  }
 },
 "nbformat": 4,
 "nbformat_minor": 5
}
